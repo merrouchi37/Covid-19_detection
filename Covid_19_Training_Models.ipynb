{
  "nbformat": 4,
  "nbformat_minor": 0,
  "metadata": {
    "colab": {
      "name": "Covid-19_Training_Models.ipynb",
      "provenance": [],
      "collapsed_sections": [],
      "authorship_tag": "ABX9TyP3tn5HTW2fEvSdchhcoBam",
      "include_colab_link": true
    },
    "kernelspec": {
      "name": "python3",
      "display_name": "Python 3"
    },
    "accelerator": "GPU"
  },
  "cells": [
    {
      "cell_type": "markdown",
      "metadata": {
        "id": "view-in-github",
        "colab_type": "text"
      },
      "source": [
        "<a href=\"https://colab.research.google.com/github/merrouchi37/Covid-19_detection/blob/master/Covid_19_Training_Models.ipynb\" target=\"_parent\"><img src=\"https://colab.research.google.com/assets/colab-badge.svg\" alt=\"Open In Colab\"/></a>"
      ]
    },
    {
      "cell_type": "code",
      "metadata": {
        "id": "-UYlauRabRrU",
        "colab_type": "code",
        "colab": {}
      },
      "source": [
        "import warnings\n",
        "warnings.filterwarnings('ignore')\n",
        "import os\n",
        "os.environ['TF_CPP_MIN_LOG_LEVEL'] = '2'"
      ],
      "execution_count": null,
      "outputs": []
    },
    {
      "cell_type": "code",
      "metadata": {
        "id": "WT_XjXReb3Ka",
        "colab_type": "code",
        "colab": {
          "base_uri": "https://localhost:8080/",
          "height": 129
        },
        "outputId": "2b8bfcfa-e67a-496c-afd7-0b575bb67432"
      },
      "source": [
        "import os\n",
        "from google.colab import drive\n",
        "drive.mount('/content/drive/')\n",
        "os.chdir(\"/content/drive/My Drive/app\")"
      ],
      "execution_count": null,
      "outputs": [
        {
          "output_type": "stream",
          "text": [
            "Go to this URL in a browser: https://accounts.google.com/o/oauth2/auth?client_id=947318989803-6bn6qk8qdgf4n4g3pfee6491hc0brc4i.apps.googleusercontent.com&redirect_uri=urn%3aietf%3awg%3aoauth%3a2.0%3aoob&scope=email%20https%3a%2f%2fwww.googleapis.com%2fauth%2fdocs.test%20https%3a%2f%2fwww.googleapis.com%2fauth%2fdrive%20https%3a%2f%2fwww.googleapis.com%2fauth%2fdrive.photos.readonly%20https%3a%2f%2fwww.googleapis.com%2fauth%2fpeopleapi.readonly&response_type=code\n",
            "\n",
            "Enter your authorization code:\n",
            "··········\n",
            "Mounted at /content/drive/\n"
          ],
          "name": "stdout"
        }
      ]
    },
    {
      "cell_type": "code",
      "metadata": {
        "id": "CVkTkh4cb3XR",
        "colab_type": "code",
        "colab": {}
      },
      "source": [
        "from tensorflow.keras.preprocessing.image import ImageDataGenerator\n",
        "from tensorflow.keras.applications import InceptionV3, VGG16, VGG19, ResNet50\n",
        "from tensorflow.keras.layers import AveragePooling2D, Dropout, Flatten, Dense, Input, GlobalAveragePooling2D\n",
        "from tensorflow.keras.models import Model\n",
        "from tensorflow.keras.callbacks import EarlyStopping, ModelCheckpoint, ReduceLROnPlateau\n",
        "from tensorflow.keras.optimizers import Adam,RMSprop\n",
        "import matplotlib.pyplot as plt\n",
        "import numpy as np\n",
        "#import argparse\n",
        "import cv2\n",
        "import os\n",
        "import shutil"
      ],
      "execution_count": null,
      "outputs": []
    },
    {
      "cell_type": "code",
      "metadata": {
        "id": "T4VGvEYqb3jP",
        "colab_type": "code",
        "colab": {}
      },
      "source": [
        "# Load data for training and validation\n",
        "data_train = np.load('data_train.npy')\n",
        "labels_train = np.load('labels_train.npy')\n",
        "data_val = np.load('data_val.npy')\n",
        "labels_val = np.load('labels_val.npy')"
      ],
      "execution_count": null,
      "outputs": []
    },
    {
      "cell_type": "code",
      "metadata": {
        "id": "dv7jR9nqgF5R",
        "colab_type": "code",
        "colab": {}
      },
      "source": [
        "# initialize the training data augmentation object\n",
        "trainAug = ImageDataGenerator(\n",
        "\trotation_range=15\n",
        "\t)"
      ],
      "execution_count": null,
      "outputs": []
    },
    {
      "cell_type": "code",
      "metadata": {
        "id": "6Q1AKCEXgF7z",
        "colab_type": "code",
        "colab": {}
      },
      "source": [
        "# load the VGG16 network, ensuring the head FC layer sets are left off\n",
        "baseModel = VGG16(weights=\"imagenet\", include_top=False, \n",
        "\tinput_tensor=Input(shape=(224, 224, 3)))\n",
        "\n",
        "# For the other 3 models, the corresponding line of code is executed each time as follows:\n",
        "#baseModel = VGG19(weights=\"imagenet\", include_top=False, \n",
        "#\tinput_tensor=Input(shape=(224, 224, 3)))\n",
        "#baseModel = InceptionV3(weights=\"imagenet\", include_top=False, \n",
        "#\tinput_tensor=Input(shape=(224, 224, 3)))\n",
        "#baseModel = ResNet50(weights=\"imagenet\", include_top=False, \n",
        "#\tinput_tensor=Input(shape=(224, 224, 3)))"
      ],
      "execution_count": null,
      "outputs": []
    },
    {
      "cell_type": "code",
      "metadata": {
        "id": "3MjKbiWvgFeK",
        "colab_type": "code",
        "colab": {}
      },
      "source": [
        "baseModel.summary()"
      ],
      "execution_count": null,
      "outputs": []
    },
    {
      "cell_type": "code",
      "metadata": {
        "id": "xMAQDunDgFYe",
        "colab_type": "code",
        "colab": {}
      },
      "source": [
        "# construct the head of the model that will be placed on top of the\n",
        "# the base model\n",
        "x = baseModel.output\n",
        "x = AveragePooling2D(pool_size=(2, 2))(x)\n",
        "x = Flatten(name=\"flatten\")(x)\n",
        "x = Dense(192, activation=\"relu\")(x)\n",
        "x = Dropout(0.5)(x)\n",
        "x = Dense(3, activation=\"softmax\")(x)"
      ],
      "execution_count": null,
      "outputs": []
    },
    {
      "cell_type": "code",
      "metadata": {
        "id": "q7VAEUN1dhT7",
        "colab_type": "code",
        "colab": {}
      },
      "source": [
        "# place the head FC model on top of the base model (this will become\n",
        "# the actual model we will train)\n",
        "model = Model(inputs=baseModel.input, outputs=x)"
      ],
      "execution_count": null,
      "outputs": []
    },
    {
      "cell_type": "code",
      "metadata": {
        "id": "xY_rb7vQdhqQ",
        "colab_type": "code",
        "colab": {}
      },
      "source": [
        "# loop over all layers in the base model and freeze them so they will\n",
        "# *not* be updated during the first training process\n",
        "\n",
        "for layer in baseModel.layers[:7]:     # for VGG16\n",
        "#for layer in baseModel.layers[:7]:    # for VGG19\n",
        "#for layer in baseModel.layers[:102]:  # for InceptionV3\n",
        "#for layer in baseModel.layers[:19]:   # for ResNet50\n",
        "\tlayer.trainable = False"
      ],
      "execution_count": null,
      "outputs": []
    },
    {
      "cell_type": "code",
      "metadata": {
        "id": "u_NnkF2JdhuR",
        "colab_type": "code",
        "colab": {}
      },
      "source": [
        "# initialize the initial learning rate, number of epochs to train for,\n",
        "# and batch size\n",
        "INIT_LR = 1e-4\n",
        "EPOCHS = 15\n",
        "BS_tr = 32\n",
        "# compile our model\n",
        "print(\"[INFO] compiling model...\")\n",
        "opt = Adam(lr=INIT_LR, decay=INIT_LR / EPOCHS)\n",
        "model.compile(loss=\"categorical_crossentropy\", optimizer=opt, metrics=[\"acc\"])"
      ],
      "execution_count": null,
      "outputs": []
    },
    {
      "cell_type": "code",
      "metadata": {
        "id": "iFA4d8zQdhRM",
        "colab_type": "code",
        "colab": {}
      },
      "source": [
        "mcp_save = ModelCheckpoint('covid19_models/best_vgg16.h5', save_best_only=True, monitor='val_acc', mode='max')\n",
        "#mcp_save = ModelCheckpoint('covid19_models/best_vgg19.h5', save_best_only=True, monitor='val_acc', mode='max')\n",
        "#mcp_save = ModelCheckpoint('covid19_models/best_InceptionV3.h5', save_best_only=True, monitor='val_acc', mode='max')\n",
        "#mcp_save = ModelCheckpoint('covid19_models/best_resNet50.h5', save_best_only=True, monitor='val_acc', mode='max')\n",
        "callbacks = [ mcp_save]"
      ],
      "execution_count": null,
      "outputs": []
    },
    {
      "cell_type": "code",
      "metadata": {
        "id": "tPTKYuY7dhPF",
        "colab_type": "code",
        "colab": {}
      },
      "source": [
        "# train the head of the network\n",
        "print(\"[INFO] training head...\")\n",
        "EPOCHS=15\n",
        "BS_tr=32\n",
        "BS_val = 16\n",
        "H = model.fit_generator(\n",
        "\ttrainAug.flow(data_train, labels_train, batch_size=BS_tr),\n",
        "\tsteps_per_epoch=len(data_train) // BS_tr ,\n",
        "\tvalidation_data=(data_val, labels_val),\n",
        "\tvalidation_steps=len(data_val) // BS_val ,\n",
        "\tepochs=EPOCHS, callbacks=callbacks)"
      ],
      "execution_count": null,
      "outputs": []
    }
  ]
}